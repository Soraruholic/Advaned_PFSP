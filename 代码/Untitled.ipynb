{
 "cells": [
  {
   "cell_type": "code",
   "execution_count": 33,
   "id": "a5744938-e49c-4278-8b85-9c14c9194b3c",
   "metadata": {},
   "outputs": [],
   "source": [
    "import math\n",
    "import random\n",
    "import numpy as np\n",
    "from datetime import datetime, timedelta\n",
    "from solver import Solver\n",
    "from population import Population\n",
    "import localSearch\n",
    "from GeneticAlgorithm import GeneticAlgorithm\n",
    "from Climb import Climb\n",
    "from SimulatedAnnealing import SimulatedAnnealing\n",
    "from chromes import initializeChromes, selectChromes, crossChromes, muteChromes\n",
    "import loadData\n",
    "import NEH\n",
    "import selection\n",
    "import chromes\n",
    "from matplotlib import pyplot as plt\n",
    "import seaborn as sns\n",
    "import pandas as pd"
   ]
  },
  {
   "cell_type": "code",
   "execution_count": 34,
   "id": "db82340a-e1a9-45e5-b036-5e587cd68a31",
   "metadata": {},
   "outputs": [],
   "source": [
    "def loadingData() :\n",
    "    path = \"../flowshop-test-10-student\"\n",
    "    f = open (path + \".txt\", \"r\")\n",
    "    # 读入实例中样例的总个数\n",
    "    instances = list()\n",
    "    instance = list()\n",
    "    for i in range (11):\n",
    "        instance.clear()\n",
    "        f.readline()\n",
    "        f.readline()\n",
    "        n, m = [int (item) for item in f.readline().split()]\n",
    "        for j in range (n):\n",
    "            line = [int (item) for item in f.readline().split()]\n",
    "            line = line[1::2]\n",
    "            instance.append (line.copy())\n",
    "        instances.append (np.array (instance.copy(), dtype = 'int32'))    \n",
    "    return instances"
   ]
  },
  {
   "cell_type": "code",
   "execution_count": 45,
   "id": "23b58581-1de5-41bb-960e-a077d2438a1a",
   "metadata": {},
   "outputs": [],
   "source": [
    "def HillClimbing ():\n",
    "    print (\"下面进行爬山法求解PFSP问题:\")\n",
    "    instances = loadingData ()\n",
    "    best_makespans = list()\n",
    "    best_permutations = list()\n",
    "    for index, instance in enumerate(instances):\n",
    "        ig = Climb(instance)\n",
    "        ig.tie_breaking = True\n",
    "        ig.max_loop = 20000\n",
    "        ig.eval(20000)\n",
    "        best_makespans.append (ig.best_solver.makespan)\n",
    "        best_permutations.append (ig.best_solver.permutation)\n",
    "        print(\"Instance \" + str(index) + \" 最优时间跨度为:\", ig.best_solver.makespan)\n",
    "        print(\"\\t相应的一个最优排列为:\", ig.best_solver.permutation)\n",
    "    return best_makespans, best_permutations\n",
    "        "
   ]
  },
  {
   "cell_type": "code",
   "execution_count": null,
   "id": "4b1706ae-5dac-4206-be3d-8d9ca9ead328",
   "metadata": {},
   "outputs": [],
   "source": [
    "HillClimbing()"
   ]
  },
  {
   "cell_type": "code",
   "execution_count": 55,
   "id": "b2bcdffb-b460-409d-bb7f-6fcdebf4bd5d",
   "metadata": {},
   "outputs": [],
   "source": [
    "def simulatedAnnealing ():\n",
    "    print (\"下面进行模拟退火法求解PFSP问题:\")\n",
    "    instances = loadingData ()\n",
    "    best_makespans = list()\n",
    "    best_permutations = list()\n",
    "    for index, instance in enumerate(instances):\n",
    "        ig = SimulatedAnnealing(instance)\n",
    "        ig.local_search = True\n",
    "        ig.max_loop = 20000\n",
    "        ig.eval(10000)\n",
    "        best_makespans.append (ig.best_solver.makespan)\n",
    "        best_permutations.append (ig.best_solver.permutation)\n",
    "        print(\"Instance \" + str(index) + \" 最优时间跨度为:\", ig.best_solver.makespan)\n",
    "        print(\"\\t相应的一个最优排列为:\", ig.best_solver.permutation)\n",
    "    return best_makespans, best_permutations"
   ]
  },
  {
   "cell_type": "code",
   "execution_count": null,
   "id": "dd19239b-0ab4-4f5f-bb74-da28f1a1aafb",
   "metadata": {},
   "outputs": [],
   "source": [
    "simulatedAnnealing ()"
   ]
  },
  {
   "cell_type": "code",
   "execution_count": 68,
   "id": "f3e184ad-442f-48f0-b70a-5b42fb0ecb11",
   "metadata": {},
   "outputs": [],
   "source": [
    "def writeResults (best_makespans, best_permutations):\n",
    "    path = '../results.txt'\n",
    "    with open(path, mode='a', encoding='utf-8') as f:\n",
    "        for index, best_makespan in enumerate (best_makespans):\n",
    "            f.write(\"Instance \" + str(index) + \" 最优时间跨度为:\" + str(best_makespan))\n",
    "            f.write ('\\n')\n",
    "            f.write(\"\\t相应的一个最优排列为:\" + str(best_permutations[index]))\n",
    "            f.write ('\\n')"
   ]
  },
  {
   "cell_type": "code",
   "execution_count": 69,
   "id": "5f3e1f76-e3a2-4d3f-93ff-dd963f7001e8",
   "metadata": {},
   "outputs": [],
   "source": [
    "# best_makespans, best_permutations = simulatedAnnealing ()\n",
    "writeResults (best_makespans, best_permutations)"
   ]
  },
  {
   "cell_type": "code",
   "execution_count": null,
   "id": "84dc98af-5b87-46d6-8a5a-cdf87c305e08",
   "metadata": {},
   "outputs": [],
   "source": [
    "def writeResults (best_makespans, best_permutations, method):\n",
    "    path = '../results.txt'\n",
    "    with open(path, mode='a', encoding='utf-8') as f:\n",
    "        f.write ('Method : ' + method)\n",
    "        f.write ('\\n')\n",
    "        for index, best_makespan in enumerate (best_makespans):\n",
    "            f.write(\"Instance \" + str(index) + \" 最优时间跨度为:\" + str(best_makespan))\n",
    "            f.write ('\\n')\n",
    "            f.write(\"\\t相应的一个最优排列为:\" + str(best_permutations[index]))\n",
    "            f.write ('\\n')"
   ]
  }
 ],
 "metadata": {
  "kernelspec": {
   "display_name": "Python 3 (ipykernel)",
   "language": "python",
   "name": "python3"
  },
  "language_info": {
   "codemirror_mode": {
    "name": "ipython",
    "version": 3
   },
   "file_extension": ".py",
   "mimetype": "text/x-python",
   "name": "python",
   "nbconvert_exporter": "python",
   "pygments_lexer": "ipython3",
   "version": "3.9.7"
  }
 },
 "nbformat": 4,
 "nbformat_minor": 5
}
